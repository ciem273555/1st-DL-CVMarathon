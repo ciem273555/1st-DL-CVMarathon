import cv2
import numpy as np

img = cv2.imread('heart.jpg', cv2.IMREAD_COLOR)
img_Gray = cv2.imread('heart.jpg', cv2.IMREAD_GRAYSCALE)


cv2.imshow('rgb', img)
cv2.imshow('gray', img_Gray)

k = cv2.waitKey(0) & 0xFF
if k == 27:         # wait for ESC key to exit
    cv2.destroyAllWindows()
elif k == ord('s'): # wait for 's' key to save and exit
    cv2.imwrite('rgb',img)
    cv2.destroyAllWindows()