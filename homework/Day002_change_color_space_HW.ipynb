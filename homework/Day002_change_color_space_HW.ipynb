import cv2
import numpy as np

img_path = 'lena.png'

# 以彩色圖片的方式載入
img = cv2.imread(img_path, cv2.IMREAD_COLOR)

# 以HSV的方式載入
img_HSV = cv2.cvtColor(img, cv2.COLOR_BGR2HSV)

# 以HLS的方式載入
img_HSL = cv2.cvtColor(img, cv2.COLOR_BGR2HLS)

# 以LAB的方式載入
img_LAB = cv2.cvtColor(img, cv2.COLOR_BGR2LAB)

# 為了要不斷顯示圖片，所以使用一個迴圈
while True:
    # 顯示彩圖
    cv2.imshow('bgr', img)
    cv2.imshow('bgr_HSV', img_HSV)
    cv2.imshow('bgr_HSL', img_HSL)
    cv2.imshow('bgr_LAB', img_LAB)

    # 直到按下 ESC 鍵才會自動關閉視窗結束程式
    k = cv2.waitKey(0)
    if k == 27:
        cv2.destroyAllWindows()
        break